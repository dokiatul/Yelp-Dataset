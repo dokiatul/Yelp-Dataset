{
 "cells": [
  {
   "cell_type": "markdown",
   "metadata": {},
   "source": [
    "# Analysis of Businesses in Yelp dataset"
   ]
  },
  {
   "cell_type": "markdown",
   "metadata": {},
   "source": [
    "## 1. Project Objective"
   ]
  },
  {
   "cell_type": "markdown",
   "metadata": {},
   "source": [
    "Yelp is a crowd-sourced local business review and social networking site.It allows users to choose best business available and also post ratings and review about business. These reviews help business to improve their service and also respond to their customers.\n",
    "\n",
    "The main objective of this project is to use this data of all the businesses to prepare a insightful analytics and see what are the factors which are helping current businesses to be successful and this will also help future business owners to take important decisions to establish new business. We will explore the features and use machine learning models to predict if a business can survive or not."
   ]
  },
  {
   "cell_type": "markdown",
   "metadata": {},
   "source": [
    "## 2. Author"
   ]
  },
  {
   "cell_type": "markdown",
   "metadata": {},
   "source": [
    "#### Atul Doki - 824400246                                \n",
    "#### Aditya Ashok - 823793328"
   ]
  },
  {
   "cell_type": "markdown",
   "metadata": {},
   "source": [
    "## 3. Package requirements"
   ]
  },
  {
   "cell_type": "markdown",
   "metadata": {},
   "source": [
    "Below are the packages we are going to use in our analysis.\n",
    "1. pandas = you can find this package in anaconda navigator and install it or you can use python package manager pip,\n",
    "            'pip install pandas'.Using this library to do exploratory analysis on data.\n",
    "            \n",
    "2. matplotlib = run 'conda install matplotlib' if Anaconda is in your system or you can use python package manager                   pip, 'pip install matplotlib'.Using this library to visualize the data.\n",
    "\n",
    "3. seaborn  = run 'conda install seaborn' if Anaconda is in your system or you can use python package manager pip,\n",
    "              'pip install seaborn'. Using this library to visualize the data.\n",
    "              \n",
    "4. vaex = run 'conda install -c conda-forge vaex' if Anaconda is in your system or you can use python package manager           pip,'pip install vaex'. Using this library to create a 2D interactive plot.\n",
    "\n",
    "5. sklearn = run 'conda install -c anaconda scikit-learn' if Anaconda is in your system or you can use python package               manager pip, 'pip install scikit-learn'. Using this library to build machine learning models.\n",
    "\n",
    "6. imblearn = run 'conda install -c conda-forge imbalanced-learn' for Ananconda or you can use python package                       manager pip, 'pip install imblearn'. This package is used to re-sample the data before training to                   reduce the inherent bias in the data.\n",
    "\n",
    "### Please have these libraries installed before running this project."
   ]
  },
  {
   "cell_type": "markdown",
   "metadata": {},
   "source": [
    "## 4. Description of Data"
   ]
  },
  {
   "cell_type": "markdown",
   "metadata": {},
   "source": [
    "The Yelp dataset is download from kraggle website. It has information of about 1,74,000 businesses in multiple csv files. Below are the attributes of all csv files which are used in this analysis.\n",
    "\n",
    "The attributes of yelp_business.csv are:                                            \n",
    ". business_id                                                \n",
    ". name                                               \n",
    ". neighborhood                                                    \n",
    ". address                                                   \n",
    ". city                                                                  \n",
    ". state                                                       \n",
    ". postal_code                                                                             \n",
    ". latitude                                                                      \n",
    ". longitude                                                                             \n",
    ". stars                                                                                                               \n",
    ". review_count                                                                                                       \n",
    ". is_open                                                                                                             \n",
    ". categories\n",
    "\n",
    "The attributes of yelp_review.css are:                                        \n",
    ". review_id                                            \n",
    ". user_id                                               \n",
    ". business_id                                              \n",
    ". stars                                         \n",
    ". date                                                                                   \n",
    ". text                                                                                   \n",
    ". useful                                                                                 \n",
    ". funny                                                                                 \n",
    ". cool                                                                                   \n",
    "\n",
    "The attributes of yelp_checkin.csv are:                                              \n",
    ". business_id                                                 \n",
    ". weekday                                                     \n",
    ". hour                                                         \n",
    ". checkins\n",
    "\n",
    "\n",
    "### You can find the dataset in the below drive link:\n",
    "https://drive.google.com/drive/folders/1Te0RnAWhN7vzqONzrhEB3d0XuRR1iQK8?usp=sharing\n",
    "\n",
    "### Please download the dataset from the drive to your system. Run this file from that directory where the data is in your system or you can change the path of csv files while reading the data.\n",
    "\n",
    "Original Source: \n",
    "https://www.kaggle.com/rksriram312/yelp-dataset-an-exploratory-analysis/data"
   ]
  },
  {
   "cell_type": "markdown",
   "metadata": {},
   "source": [
    "## 5. Exploratory Analysis"
   ]
  },
  {
   "cell_type": "code",
   "execution_count": 1,
   "metadata": {},
   "outputs": [],
   "source": [
    "import numpy as np\n",
    "import pandas as pd\n",
    "import matplotlib.pyplot as plt\n",
    "from matplotlib.ticker import FuncFormatter, MaxNLocator\n",
    "import vaex\n",
    "import seaborn as sns\n",
    "\n",
    "from sklearn.model_selection import train_test_split\n",
    "from imblearn.over_sampling import SMOTE\n",
    "from sklearn.linear_model import LogisticRegression\n",
    "from sklearn.metrics import confusion_matrix,accuracy_score\n",
    "from sklearn import tree\n",
    "from sklearn import ensemble\n",
    "from sklearn import metrics\n",
    "\n",
    "# Path of the csv files in your system\n",
    "yelp_business_data = 'yelp_business.csv'\n",
    "yelp_review_data = 'yelp_review.csv'\n",
    "yelp_checkin_data = 'yelp_checkin.csv'"
   ]
  },
  {
   "cell_type": "code",
   "execution_count": 2,
   "metadata": {},
   "outputs": [],
   "source": [
    "# reading data from csv files into dataframes\n",
    "df_yelp_business= pd.read_csv(yelp_business_data)\n",
    "df_yelp_review= pd.read_csv(yelp_review_data)\n",
    "df_yelp_checkin= pd.read_csv(yelp_checkin_data)"
   ]
  },
  {
   "cell_type": "code",
   "execution_count": 3,
   "metadata": {},
   "outputs": [
    {
     "data": {
      "text/html": [
       "<div>\n",
       "<style scoped>\n",
       "    .dataframe tbody tr th:only-of-type {\n",
       "        vertical-align: middle;\n",
       "    }\n",
       "\n",
       "    .dataframe tbody tr th {\n",
       "        vertical-align: top;\n",
       "    }\n",
       "\n",
       "    .dataframe thead th {\n",
       "        text-align: right;\n",
       "    }\n",
       "</style>\n",
       "<table border=\"1\" class=\"dataframe\">\n",
       "  <thead>\n",
       "    <tr style=\"text-align: right;\">\n",
       "      <th></th>\n",
       "      <th>business_id</th>\n",
       "      <th>name</th>\n",
       "      <th>neighborhood</th>\n",
       "      <th>address</th>\n",
       "      <th>city</th>\n",
       "      <th>state</th>\n",
       "      <th>postal_code</th>\n",
       "      <th>latitude</th>\n",
       "      <th>longitude</th>\n",
       "      <th>stars</th>\n",
       "      <th>review_count</th>\n",
       "      <th>is_open</th>\n",
       "      <th>categories</th>\n",
       "    </tr>\n",
       "  </thead>\n",
       "  <tbody>\n",
       "    <tr>\n",
       "      <td>0</td>\n",
       "      <td>FYWN1wneV18bWNgQjJ2GNg</td>\n",
       "      <td>\"Dental by Design\"</td>\n",
       "      <td>NaN</td>\n",
       "      <td>\"4855 E Warner Rd, Ste B9\"</td>\n",
       "      <td>Ahwatukee</td>\n",
       "      <td>AZ</td>\n",
       "      <td>85044</td>\n",
       "      <td>33.330690</td>\n",
       "      <td>-111.978599</td>\n",
       "      <td>4.0</td>\n",
       "      <td>22</td>\n",
       "      <td>1</td>\n",
       "      <td>Dentists;General Dentistry;Health &amp; Medical;Or...</td>\n",
       "    </tr>\n",
       "    <tr>\n",
       "      <td>1</td>\n",
       "      <td>He-G7vWjzVUysIKrfNbPUQ</td>\n",
       "      <td>\"Stephen Szabo Salon\"</td>\n",
       "      <td>NaN</td>\n",
       "      <td>\"3101 Washington Rd\"</td>\n",
       "      <td>McMurray</td>\n",
       "      <td>PA</td>\n",
       "      <td>15317</td>\n",
       "      <td>40.291685</td>\n",
       "      <td>-80.104900</td>\n",
       "      <td>3.0</td>\n",
       "      <td>11</td>\n",
       "      <td>1</td>\n",
       "      <td>Hair Stylists;Hair Salons;Men's Hair Salons;Bl...</td>\n",
       "    </tr>\n",
       "    <tr>\n",
       "      <td>2</td>\n",
       "      <td>KQPW8lFf1y5BT2MxiSZ3QA</td>\n",
       "      <td>\"Western Motor Vehicle\"</td>\n",
       "      <td>NaN</td>\n",
       "      <td>\"6025 N 27th Ave, Ste 1\"</td>\n",
       "      <td>Phoenix</td>\n",
       "      <td>AZ</td>\n",
       "      <td>85017</td>\n",
       "      <td>33.524903</td>\n",
       "      <td>-112.115310</td>\n",
       "      <td>1.5</td>\n",
       "      <td>18</td>\n",
       "      <td>1</td>\n",
       "      <td>Departments of Motor Vehicles;Public Services ...</td>\n",
       "    </tr>\n",
       "    <tr>\n",
       "      <td>3</td>\n",
       "      <td>8DShNS-LuFqpEWIp0HxijA</td>\n",
       "      <td>\"Sports Authority\"</td>\n",
       "      <td>NaN</td>\n",
       "      <td>\"5000 Arizona Mills Cr, Ste 435\"</td>\n",
       "      <td>Tempe</td>\n",
       "      <td>AZ</td>\n",
       "      <td>85282</td>\n",
       "      <td>33.383147</td>\n",
       "      <td>-111.964725</td>\n",
       "      <td>3.0</td>\n",
       "      <td>9</td>\n",
       "      <td>0</td>\n",
       "      <td>Sporting Goods;Shopping</td>\n",
       "    </tr>\n",
       "    <tr>\n",
       "      <td>4</td>\n",
       "      <td>PfOCPjBrlQAnz__NXj9h_w</td>\n",
       "      <td>\"Brick House Tavern + Tap\"</td>\n",
       "      <td>NaN</td>\n",
       "      <td>\"581 Howe Ave\"</td>\n",
       "      <td>Cuyahoga Falls</td>\n",
       "      <td>OH</td>\n",
       "      <td>44221</td>\n",
       "      <td>41.119535</td>\n",
       "      <td>-81.475690</td>\n",
       "      <td>3.5</td>\n",
       "      <td>116</td>\n",
       "      <td>1</td>\n",
       "      <td>American (New);Nightlife;Bars;Sandwiches;Ameri...</td>\n",
       "    </tr>\n",
       "  </tbody>\n",
       "</table>\n",
       "</div>"
      ],
      "text/plain": [
       "              business_id                        name neighborhood  \\\n",
       "0  FYWN1wneV18bWNgQjJ2GNg          \"Dental by Design\"          NaN   \n",
       "1  He-G7vWjzVUysIKrfNbPUQ       \"Stephen Szabo Salon\"          NaN   \n",
       "2  KQPW8lFf1y5BT2MxiSZ3QA     \"Western Motor Vehicle\"          NaN   \n",
       "3  8DShNS-LuFqpEWIp0HxijA          \"Sports Authority\"          NaN   \n",
       "4  PfOCPjBrlQAnz__NXj9h_w  \"Brick House Tavern + Tap\"          NaN   \n",
       "\n",
       "                            address            city state postal_code  \\\n",
       "0        \"4855 E Warner Rd, Ste B9\"       Ahwatukee    AZ       85044   \n",
       "1              \"3101 Washington Rd\"        McMurray    PA       15317   \n",
       "2          \"6025 N 27th Ave, Ste 1\"         Phoenix    AZ       85017   \n",
       "3  \"5000 Arizona Mills Cr, Ste 435\"           Tempe    AZ       85282   \n",
       "4                    \"581 Howe Ave\"  Cuyahoga Falls    OH       44221   \n",
       "\n",
       "    latitude   longitude  stars  review_count  is_open  \\\n",
       "0  33.330690 -111.978599    4.0            22        1   \n",
       "1  40.291685  -80.104900    3.0            11        1   \n",
       "2  33.524903 -112.115310    1.5            18        1   \n",
       "3  33.383147 -111.964725    3.0             9        0   \n",
       "4  41.119535  -81.475690    3.5           116        1   \n",
       "\n",
       "                                          categories  \n",
       "0  Dentists;General Dentistry;Health & Medical;Or...  \n",
       "1  Hair Stylists;Hair Salons;Men's Hair Salons;Bl...  \n",
       "2  Departments of Motor Vehicles;Public Services ...  \n",
       "3                            Sporting Goods;Shopping  \n",
       "4  American (New);Nightlife;Bars;Sandwiches;Ameri...  "
      ]
     },
     "execution_count": 3,
     "metadata": {},
     "output_type": "execute_result"
    }
   ],
   "source": [
    "# take a peak into the yelp business data\n",
    "df_yelp_business.head()"
   ]
  },
  {
   "cell_type": "code",
   "execution_count": 4,
   "metadata": {},
   "outputs": [
    {
     "data": {
      "text/html": [
       "<div>\n",
       "<style scoped>\n",
       "    .dataframe tbody tr th:only-of-type {\n",
       "        vertical-align: middle;\n",
       "    }\n",
       "\n",
       "    .dataframe tbody tr th {\n",
       "        vertical-align: top;\n",
       "    }\n",
       "\n",
       "    .dataframe thead th {\n",
       "        text-align: right;\n",
       "    }\n",
       "</style>\n",
       "<table border=\"1\" class=\"dataframe\">\n",
       "  <thead>\n",
       "    <tr style=\"text-align: right;\">\n",
       "      <th></th>\n",
       "      <th>review_id</th>\n",
       "      <th>user_id</th>\n",
       "      <th>business_id</th>\n",
       "      <th>stars</th>\n",
       "      <th>date</th>\n",
       "      <th>text</th>\n",
       "      <th>useful</th>\n",
       "      <th>funny</th>\n",
       "      <th>cool</th>\n",
       "    </tr>\n",
       "  </thead>\n",
       "  <tbody>\n",
       "    <tr>\n",
       "      <td>0</td>\n",
       "      <td>vkVSCC7xljjrAI4UGfnKEQ</td>\n",
       "      <td>bv2nCi5Qv5vroFiqKGopiw</td>\n",
       "      <td>AEx2SYEUJmTxVVB18LlCwA</td>\n",
       "      <td>5</td>\n",
       "      <td>2016-05-28</td>\n",
       "      <td>Super simple place but amazing nonetheless. It...</td>\n",
       "      <td>0</td>\n",
       "      <td>0</td>\n",
       "      <td>0</td>\n",
       "    </tr>\n",
       "    <tr>\n",
       "      <td>1</td>\n",
       "      <td>n6QzIUObkYshz4dz2QRJTw</td>\n",
       "      <td>bv2nCi5Qv5vroFiqKGopiw</td>\n",
       "      <td>VR6GpWIda3SfvPC-lg9H3w</td>\n",
       "      <td>5</td>\n",
       "      <td>2016-05-28</td>\n",
       "      <td>Small unassuming place that changes their menu...</td>\n",
       "      <td>0</td>\n",
       "      <td>0</td>\n",
       "      <td>0</td>\n",
       "    </tr>\n",
       "    <tr>\n",
       "      <td>2</td>\n",
       "      <td>MV3CcKScW05u5LVfF6ok0g</td>\n",
       "      <td>bv2nCi5Qv5vroFiqKGopiw</td>\n",
       "      <td>CKC0-MOWMqoeWf6s-szl8g</td>\n",
       "      <td>5</td>\n",
       "      <td>2016-05-28</td>\n",
       "      <td>Lester's is located in a beautiful neighborhoo...</td>\n",
       "      <td>0</td>\n",
       "      <td>0</td>\n",
       "      <td>0</td>\n",
       "    </tr>\n",
       "    <tr>\n",
       "      <td>3</td>\n",
       "      <td>IXvOzsEMYtiJI0CARmj77Q</td>\n",
       "      <td>bv2nCi5Qv5vroFiqKGopiw</td>\n",
       "      <td>ACFtxLv8pGrrxMm6EgjreA</td>\n",
       "      <td>4</td>\n",
       "      <td>2016-05-28</td>\n",
       "      <td>Love coming here. Yes the place always needs t...</td>\n",
       "      <td>0</td>\n",
       "      <td>0</td>\n",
       "      <td>0</td>\n",
       "    </tr>\n",
       "    <tr>\n",
       "      <td>4</td>\n",
       "      <td>L_9BTb55X0GDtThi6GlZ6w</td>\n",
       "      <td>bv2nCi5Qv5vroFiqKGopiw</td>\n",
       "      <td>s2I_Ni76bjJNK9yG60iD-Q</td>\n",
       "      <td>4</td>\n",
       "      <td>2016-05-28</td>\n",
       "      <td>Had their chocolate almond croissant and it wa...</td>\n",
       "      <td>0</td>\n",
       "      <td>0</td>\n",
       "      <td>0</td>\n",
       "    </tr>\n",
       "  </tbody>\n",
       "</table>\n",
       "</div>"
      ],
      "text/plain": [
       "                review_id                 user_id             business_id  \\\n",
       "0  vkVSCC7xljjrAI4UGfnKEQ  bv2nCi5Qv5vroFiqKGopiw  AEx2SYEUJmTxVVB18LlCwA   \n",
       "1  n6QzIUObkYshz4dz2QRJTw  bv2nCi5Qv5vroFiqKGopiw  VR6GpWIda3SfvPC-lg9H3w   \n",
       "2  MV3CcKScW05u5LVfF6ok0g  bv2nCi5Qv5vroFiqKGopiw  CKC0-MOWMqoeWf6s-szl8g   \n",
       "3  IXvOzsEMYtiJI0CARmj77Q  bv2nCi5Qv5vroFiqKGopiw  ACFtxLv8pGrrxMm6EgjreA   \n",
       "4  L_9BTb55X0GDtThi6GlZ6w  bv2nCi5Qv5vroFiqKGopiw  s2I_Ni76bjJNK9yG60iD-Q   \n",
       "\n",
       "   stars        date                                               text  \\\n",
       "0      5  2016-05-28  Super simple place but amazing nonetheless. It...   \n",
       "1      5  2016-05-28  Small unassuming place that changes their menu...   \n",
       "2      5  2016-05-28  Lester's is located in a beautiful neighborhoo...   \n",
       "3      4  2016-05-28  Love coming here. Yes the place always needs t...   \n",
       "4      4  2016-05-28  Had their chocolate almond croissant and it wa...   \n",
       "\n",
       "   useful  funny  cool  \n",
       "0       0      0     0  \n",
       "1       0      0     0  \n",
       "2       0      0     0  \n",
       "3       0      0     0  \n",
       "4       0      0     0  "
      ]
     },
     "execution_count": 4,
     "metadata": {},
     "output_type": "execute_result"
    }
   ],
   "source": [
    "# take a peak into the yelp review data\n",
    "df_yelp_review.head()"
   ]
  },
  {
   "cell_type": "code",
   "execution_count": 5,
   "metadata": {},
   "outputs": [
    {
     "data": {
      "text/html": [
       "<div>\n",
       "<style scoped>\n",
       "    .dataframe tbody tr th:only-of-type {\n",
       "        vertical-align: middle;\n",
       "    }\n",
       "\n",
       "    .dataframe tbody tr th {\n",
       "        vertical-align: top;\n",
       "    }\n",
       "\n",
       "    .dataframe thead th {\n",
       "        text-align: right;\n",
       "    }\n",
       "</style>\n",
       "<table border=\"1\" class=\"dataframe\">\n",
       "  <thead>\n",
       "    <tr style=\"text-align: right;\">\n",
       "      <th></th>\n",
       "      <th>business_id</th>\n",
       "      <th>weekday</th>\n",
       "      <th>hour</th>\n",
       "      <th>checkins</th>\n",
       "    </tr>\n",
       "  </thead>\n",
       "  <tbody>\n",
       "    <tr>\n",
       "      <td>0</td>\n",
       "      <td>3Mc-LxcqeguOXOVT_2ZtCg</td>\n",
       "      <td>Tue</td>\n",
       "      <td>0:00</td>\n",
       "      <td>12</td>\n",
       "    </tr>\n",
       "    <tr>\n",
       "      <td>1</td>\n",
       "      <td>SVFx6_epO22bZTZnKwlX7g</td>\n",
       "      <td>Wed</td>\n",
       "      <td>0:00</td>\n",
       "      <td>4</td>\n",
       "    </tr>\n",
       "    <tr>\n",
       "      <td>2</td>\n",
       "      <td>vW9aLivd4-IorAfStzsHww</td>\n",
       "      <td>Tue</td>\n",
       "      <td>14:00</td>\n",
       "      <td>1</td>\n",
       "    </tr>\n",
       "    <tr>\n",
       "      <td>3</td>\n",
       "      <td>tEzxhauTQddACyqdJ0OPEQ</td>\n",
       "      <td>Fri</td>\n",
       "      <td>19:00</td>\n",
       "      <td>1</td>\n",
       "    </tr>\n",
       "    <tr>\n",
       "      <td>4</td>\n",
       "      <td>CEyZU32P-vtMhgqRCaXzMA</td>\n",
       "      <td>Tue</td>\n",
       "      <td>17:00</td>\n",
       "      <td>1</td>\n",
       "    </tr>\n",
       "  </tbody>\n",
       "</table>\n",
       "</div>"
      ],
      "text/plain": [
       "              business_id weekday   hour  checkins\n",
       "0  3Mc-LxcqeguOXOVT_2ZtCg     Tue   0:00        12\n",
       "1  SVFx6_epO22bZTZnKwlX7g     Wed   0:00         4\n",
       "2  vW9aLivd4-IorAfStzsHww     Tue  14:00         1\n",
       "3  tEzxhauTQddACyqdJ0OPEQ     Fri  19:00         1\n",
       "4  CEyZU32P-vtMhgqRCaXzMA     Tue  17:00         1"
      ]
     },
     "execution_count": 5,
     "metadata": {},
     "output_type": "execute_result"
    }
   ],
   "source": [
    "# take a peak into the yelp checkin data\n",
    "df_yelp_checkin.head()"
   ]
  },
  {
   "cell_type": "markdown",
   "metadata": {},
   "source": [
    "### Lets find out if there are any missing values in the data"
   ]
  },
  {
   "cell_type": "markdown",
   "metadata": {},
   "source": [
    "#### Find missing data in yelp business data"
   ]
  },
  {
   "cell_type": "code",
   "execution_count": 6,
   "metadata": {},
   "outputs": [
    {
     "data": {
      "text/plain": [
       "business_id          0\n",
       "name                 0\n",
       "neighborhood    106552\n",
       "address              0\n",
       "city                 1\n",
       "state                1\n",
       "postal_code        623\n",
       "latitude             1\n",
       "longitude            1\n",
       "stars                0\n",
       "review_count         0\n",
       "is_open              0\n",
       "categories           0\n",
       "dtype: int64"
      ]
     },
     "execution_count": 6,
     "metadata": {},
     "output_type": "execute_result"
    }
   ],
   "source": [
    "df_yelp_business.isnull().sum()"
   ]
  },
  {
   "cell_type": "markdown",
   "metadata": {},
   "source": [
    "#### As we can see there are lot of null values in neighborhood column so we could ignore that column in our analysis."
   ]
  },
  {
   "cell_type": "code",
   "execution_count": 7,
   "metadata": {
    "scrolled": true
   },
   "outputs": [],
   "source": [
    "# Dropping neighborhood column\n",
    "df_yelp_business = df_yelp_business.drop(columns=['neighborhood'])"
   ]
  },
  {
   "cell_type": "markdown",
   "metadata": {},
   "source": [
    "#### Find missing data in yelp review data"
   ]
  },
  {
   "cell_type": "code",
   "execution_count": 8,
   "metadata": {},
   "outputs": [
    {
     "data": {
      "text/plain": [
       "review_id      0\n",
       "user_id        0\n",
       "business_id    0\n",
       "stars          0\n",
       "date           0\n",
       "text           0\n",
       "useful         0\n",
       "funny          0\n",
       "cool           0\n",
       "dtype: int64"
      ]
     },
     "execution_count": 8,
     "metadata": {},
     "output_type": "execute_result"
    }
   ],
   "source": [
    "df_yelp_review.isnull().sum()"
   ]
  },
  {
   "cell_type": "markdown",
   "metadata": {},
   "source": [
    "#### Find missing data in yelp checkin data"
   ]
  },
  {
   "cell_type": "code",
   "execution_count": 9,
   "metadata": {},
   "outputs": [
    {
     "data": {
      "text/plain": [
       "business_id    0\n",
       "weekday        0\n",
       "hour           0\n",
       "checkins       0\n",
       "dtype: int64"
      ]
     },
     "execution_count": 9,
     "metadata": {},
     "output_type": "execute_result"
    }
   ],
   "source": [
    "df_yelp_checkin.isnull().sum()"
   ]
  },
  {
   "cell_type": "markdown",
   "metadata": {},
   "source": [
    "### Lets visualize number of businesses which are open and closed."
   ]
  },
  {
   "cell_type": "code",
   "execution_count": 10,
   "metadata": {
    "scrolled": true
   },
   "outputs": [
    {
     "data": {
      "text/plain": [
       "<matplotlib.legend.Legend at 0x1a257bbe50>"
      ]
     },
     "execution_count": 10,
     "metadata": {},
     "output_type": "execute_result"
    },
    {
     "data": {
      "image/png": "[encoded data removed]",
      "text/plain": [
       "<Figure size 432x288 with 1 Axes>"
      ]
     },
     "metadata": {
      "needs_background": "light"
     },
     "output_type": "display_data"
    }
   ],
   "source": [
    "fig, ax = plt.subplots()\n",
    "\n",
    "# Plotting number of businesses open and closed\n",
    "df_yelp_business.groupby(['is_open'])['business_id'].count().plot(kind='bar',ax=ax, color=['r','g'])\n",
    "ax.title.set_text('Number of Businesses open and closed')\n",
    "ax.set_xticklabels(['No','Yes'])\n",
    "ax.legend()"
   ]
  },
  {
   "cell_type": "markdown",
   "metadata": {},
   "source": [
    "### Let's look at the leading business categories in out dataset which are open. A business is linked to multiple categories in our dataset, so we have to do a bit of preprocessing. "
   ]
  },
  {
   "cell_type": "code",
   "execution_count": 11,
   "metadata": {},
   "outputs": [],
   "source": [
    "categories = []\n",
    "def getCategory(row):\n",
    "    categories.extend(row.split(';'))\n",
    "    return None\n"
   ]
  },
  {
   "cell_type": "code",
   "execution_count": 12,
   "metadata": {},
   "outputs": [
    {
     "data": {
      "text/plain": [
       "Text(0.5, 1.0, 'Count of businesses by Category')"
      ]
     },
     "execution_count": 12,
     "metadata": {},
     "output_type": "execute_result"
    },
    {
     "data": {
      "image/png": "[encoded data removed]",
      "text/plain": [
       "<Figure size 432x288 with 1 Axes>"
      ]
     },
     "metadata": {
      "needs_background": "light"
     },
     "output_type": "display_data"
    }
   ],
   "source": [
    "# Filtering businesses which are open\n",
    "Open_businesses = df_yelp_business[df_yelp_business['is_open'] == 1]\n",
    "\n",
    "# getting cetegories of businesses\n",
    "Open_businesses['categories'].apply(lambda row: getCategory(row))\n",
    "\n",
    "# creating a dataframe of categories and counting number of businesses in each category\n",
    "df_categories = pd.DataFrame(categories,columns=['categories'])\n",
    "categories_count = df_categories.categories.value_counts().nlargest(10)\n",
    "\n",
    "# Plotting Number of businesses in each category\n",
    "sns.barplot(categories_count.values, categories_count.index, palette=sns.color_palette(\"GnBu_r\", len(categories_count)))\n",
    "plt.xlabel('Number of businesses', labelpad=10, fontsize=14)\n",
    "plt.ylabel('Category', labelpad=10, fontsize=14)\n",
    "plt.title('Count of businesses by Category', fontsize=15)"
   ]
  },
  {
   "cell_type": "markdown",
   "metadata": {},
   "source": [
    "### We can see from the above bar graph that the highest number of businesses which are open and running are Restaurants followed by shopping. So we can say that if anyone starts a restaurant business then it is likely that the business will be successful."
   ]
  },
  {
   "cell_type": "markdown",
   "metadata": {},
   "source": [
    "### Lets visualize the ratings of the businesses"
   ]
  },
  {
   "cell_type": "markdown",
   "metadata": {},
   "source": [
    "#### Distribution of ratings by businesses"
   ]
  },
  {
   "cell_type": "code",
   "execution_count": 13,
   "metadata": {},
   "outputs": [
    {
     "data": {
      "text/plain": [
       "Text(0.5, 1.0, 'Count of businesses against Ratings')"
      ]
     },
     "execution_count": 13,
     "metadata": {},
     "output_type": "execute_result"
    },
    {
     "data": {
      "image/png": "[encoded data removed]",
      "text/plain": [
       "<Figure size 432x288 with 1 Axes>"
      ]
     },
     "metadata": {
      "needs_background": "light"
     },
     "output_type": "display_data"
    }
   ],
   "source": [
    "# Grouping businesses as per the rating\n",
    "group_ratings_count = df_yelp_business.stars.value_counts()\n",
    "\n",
    "# Plotting number of businesses against rating\n",
    "sns.barplot(group_ratings_count.index, group_ratings_count.values, palette=sns.color_palette(\"GnBu_r\", len(group_ratings_count)))\n",
    "plt.xlabel('Ratings', labelpad=10, fontsize=14)\n",
    "plt.title('Count of businesses against Ratings', fontsize=15)"
   ]
  },
  {
   "cell_type": "markdown",
   "metadata": {},
   "source": [
    "#### Number of businesses which are open with below or above star rating 3."
   ]
  },
  {
   "cell_type": "code",
   "execution_count": 14,
   "metadata": {
    "scrolled": true
   },
   "outputs": [
    {
     "data": {
      "text/plain": [
       "<matplotlib.legend.Legend at 0x1a2578c850>"
      ]
     },
     "execution_count": 14,
     "metadata": {},
     "output_type": "execute_result"
    },
    {
     "data": {
      "image/png": "[encoded data removed]",
      "text/plain": [
       "<Figure size 1080x432 with 2 Axes>"
      ]
     },
     "metadata": {
      "needs_background": "light"
     },
     "output_type": "display_data"
    }
   ],
   "source": [
    "fig, (ax1, ax2) = plt.subplots(1, 2,figsize=(15,6))\n",
    "ax1.title.set_text('Businesses with star rating more than 3')\n",
    "ax2.title.set_text('Businesses with star rating less than 3')\n",
    "\n",
    "# plotting number of businesses with rating above 3 and counting how many are open and closed\n",
    "df_yelp_business[df_yelp_business.stars >= 3].groupby(['is_open'])['business_id'].count().plot(kind='bar',ax=ax1,color=['r','g'])\n",
    "ax1.set_xticklabels(['No','Yes'])\n",
    "ax1.legend()\n",
    "\n",
    "# plotting number of businesses with rating below 3 and counting how many are open and closed\n",
    "df_yelp_business[df_yelp_business.stars < 3].groupby(['is_open'])['business_id'].count().plot(kind='bar',ax=ax2, color=['r','g'])\n",
    "ax2.set_xticklabels(['No','Yes'])\n",
    "ax2.legend()"
   ]
  },
  {
   "cell_type": "markdown",
   "metadata": {},
   "source": [
    "### We can see from the above graphs that customer ratings can play a good role to make a business successful. There are around 1.15 lac businesses i.e more than 60% of total businesses which has star rating more than 3 and are open but there are also 26,000 businesses which is comparativelty less, with star rating less than 3 and are open due to some other factors which can be regular customers or the business is setup in a prime location."
   ]
  },
  {
   "cell_type": "markdown",
   "metadata": {},
   "source": [
    "### Lets visualize the businesses in different locations"
   ]
  },
  {
   "cell_type": "markdown",
   "metadata": {},
   "source": [
    "#### Distribution of businesses in different locations."
   ]
  },
  {
   "cell_type": "code",
   "execution_count": 15,
   "metadata": {},
   "outputs": [],
   "source": [
    "# Reading data into vaex dataframe\n",
    "vaex_df_yelp_business = vaex.from_pandas(df_yelp_business)"
   ]
  },
  {
   "cell_type": "code",
   "execution_count": 16,
   "metadata": {},
   "outputs": [
    {
     "data": {
      "application/vnd.jupyter.widget-view+json": {
       "model_id": "f1df63186fc34e54b3c9af167c1130ae",
       "version_major": 2,
       "version_minor": 0
      },
      "text/plain": [
       "PlotTemplate(components={'main-widget': VBox(children=(VBox(children=(Figure(axes=[Axis(color='#666', grid_col…"
      ]
     },
     "metadata": {},
     "output_type": "display_data"
    },
    {
     "data": {
      "text/plain": [
       "Plot2dDefault(w=None, what='count(*)', x='longitude', y='latitude', z=None)"
      ]
     },
     "metadata": {},
     "output_type": "display_data"
    }
   ],
   "source": [
    "# interactive plot to see how the businesses are spread out\n",
    "vaex_df_yelp_business.plot_widget(vaex_df_yelp_business.longitude, \n",
    "               vaex_df_yelp_business.latitude, \n",
    "               shape=512, \n",
    "               limits='minmax')"
   ]
  },
  {
   "cell_type": "markdown",
   "metadata": {},
   "source": [
    "#### Top 10 states with highest number of businesses"
   ]
  },
  {
   "cell_type": "code",
   "execution_count": 17,
   "metadata": {},
   "outputs": [
    {
     "data": {
      "text/plain": [
       "Text(0.5, 1.0, 'Count of businesses against States')"
      ]
     },
     "execution_count": 17,
     "metadata": {},
     "output_type": "execute_result"
    },
    {
     "data": {
      "image/png": "[encoded data removed]",
      "text/plain": [
       "<Figure size 432x288 with 1 Axes>"
      ]
     },
     "metadata": {
      "needs_background": "light"
     },
     "output_type": "display_data"
    }
   ],
   "source": [
    "# calculating top 10 states with highest number of businesses\n",
    "group_state_count = df_yelp_business.state.value_counts().nlargest(10)\n",
    "\n",
    "# plotting top 10 states with highest number of businesses\n",
    "sns.barplot(group_state_count.index, group_state_count.values, palette=sns.color_palette(\"GnBu_r\", len(group_state_count)))\n",
    "plt.xlabel('State', labelpad=10, fontsize=14)\n",
    "plt.title('Count of businesses against States', fontsize=15)"
   ]
  },
  {
   "cell_type": "markdown",
   "metadata": {},
   "source": [
    "### We can see in the graph there are some prime locations where there are highest number of businesses running. People always look for best locations for entertainment . So a business at these locations can be successful as more customers will visit there."
   ]
  },
  {
   "cell_type": "markdown",
   "metadata": {},
   "source": [
    "### Lets Visualize how number of checkin's affect a business"
   ]
  },
  {
   "cell_type": "code",
   "execution_count": 18,
   "metadata": {},
   "outputs": [],
   "source": [
    "# calculating number of checkins for each business\n",
    "check_in_count = df_yelp_checkin.groupby('business_id')['checkins'].sum().reset_index()"
   ]
  },
  {
   "cell_type": "code",
   "execution_count": 19,
   "metadata": {},
   "outputs": [],
   "source": [
    "# Merging the number of checkins columns to the yelp business data\n",
    "df_yelp_business = pd.merge(df_yelp_business, check_in_count, on='business_id',how='outer')"
   ]
  },
  {
   "cell_type": "code",
   "execution_count": 20,
   "metadata": {},
   "outputs": [
    {
     "data": {
      "text/plain": [
       "<matplotlib.legend.Legend at 0x1a3bd787d0>"
      ]
     },
     "execution_count": 20,
     "metadata": {},
     "output_type": "execute_result"
    },
    {
     "data": {
      "image/png": "[encoded data removed]",
      "text/plain": [
       "<Figure size 432x288 with 1 Axes>"
      ]
     },
     "metadata": {
      "needs_background": "light"
     },
     "output_type": "display_data"
    }
   ],
   "source": [
    "# Plotting number of businesses with highest checkins which are open\n",
    "fig, ax = plt.subplots()\n",
    "df_yelp_business.nlargest(20, 'checkins').groupby('is_open')['business_id'].count().plot(kind='bar',width=0.1,ax=ax)\n",
    "ax.set_title('Number of businesses which are open with highest checkins')\n",
    "ax.set_xticklabels(['Yes','No'])\n",
    "ax.legend()"
   ]
  },
  {
   "cell_type": "markdown",
   "metadata": {},
   "source": [
    "### As we can see the top 20 businesses with highest number of checkins are open and running. So number of checkins i.e numbers of customers visiting the store can be one of the factor for the success of business."
   ]
  },
  {
   "cell_type": "markdown",
   "metadata": {},
   "source": [
    "### Lets see how reviews of the customers affect a business"
   ]
  },
  {
   "cell_type": "markdown",
   "metadata": {},
   "source": [
    "#### Top 10 businesses with highest number of reviews"
   ]
  },
  {
   "cell_type": "code",
   "execution_count": 21,
   "metadata": {},
   "outputs": [
    {
     "data": {
      "text/plain": [
       "Text(0.5, 1.0, 'Rating against Business')"
      ]
     },
     "execution_count": 21,
     "metadata": {},
     "output_type": "execute_result"
    },
    {
     "data": {
      "image/png": "[encoded data removed]",
      "text/plain": [
       "<Figure size 1080x432 with 2 Axes>"
      ]
     },
     "metadata": {
      "needs_background": "light"
     },
     "output_type": "display_data"
    }
   ],
   "source": [
    "# calulating number of reviews given by users for each business.\n",
    "user_review_count = df_yelp_review.business_id.value_counts().reset_index().rename(columns={\"index\":\"business_id\",\"business_id\":\"number_of_reviews\"})\n",
    "\n",
    "# merging number of reviews column to yelp business data\n",
    "df_yelp_business = pd.merge(df_yelp_business, user_review_count, on='business_id',how='outer')\n",
    "\n",
    "# getting top 10 businesses with highest number of reviews\n",
    "top_business_reviews = df_yelp_business.nlargest(10,'number_of_reviews')\n",
    "\n",
    "fig, (ax1, ax2) = plt.subplots(1, 2,figsize=(15,6))\n",
    "\n",
    "# Plotting top 10 businesses with number of reviews\n",
    "sns.barplot(top_business_reviews.name, top_business_reviews.number_of_reviews, palette=sns.color_palette(\"GnBu_r\", len(top_business_reviews)), ax=ax1)\n",
    "ax1.set_xlabel('Business name', labelpad=10, fontsize=14)\n",
    "ax1.set_ylabel('Number of reviews', labelpad=10, fontsize=14)\n",
    "ax1.set_xticklabels(ax1.get_xticklabels(), rotation=45)\n",
    "ax1.set_title('Count of number of reviews against Business', fontsize=15)\n",
    "\n",
    "# Plotting top 10 businesses with highest number of reviews against ratings\n",
    "sns.barplot(top_business_reviews.name, top_business_reviews.stars, palette=sns.color_palette(\"GnBu_r\", len(top_business_reviews)), ax=ax2)\n",
    "ax2.set_xlabel('Business name', labelpad=10, fontsize=14)\n",
    "ax2.set_ylabel('Ratings', labelpad=10, fontsize=14)\n",
    "ax2.set_xticklabels(ax2.get_xticklabels(), rotation=45)\n",
    "ax2.set_title('Rating against Business', fontsize=15)"
   ]
  },
  {
   "cell_type": "markdown",
   "metadata": {},
   "source": [
    "### We can see from the above graph that all the 10 businesses with highest number of reviews have a very good star rating above 3. Reviews of customers help businesses improve their service and it also attracts more customers to visit."
   ]
  },
  {
   "cell_type": "markdown",
   "metadata": {},
   "source": [
    "### Now, we shall build a model to find answers to the question at hand. \n",
    "\n",
    "### In our exploratory analysis, we came across the 'is_open' feature which defines whether a business is open or closed. Where 1 signifies open and 0 signifies closed. Intuitively, this is a classification problem. \n",
    "\n",
    "### We observed that the number of open businesses greatly outweighs the number of closed businesses. \n",
    "\n",
    "### Therefore, we have selected features that would impact the status of a business. These features are listed in cols. We have proved that these features do have an effect on how successfully a business is run in the exploratory analysis above. \n",
    "### Now we will figure out if they have an effect on closure of a business.\n",
    "\n",
    "### We have decided to use Logistic regression first, then move Decision trees and then Random forest which is an Ensemble model."
   ]
  },
  {
   "cell_type": "markdown",
   "metadata": {},
   "source": [
    "## 6. Building models"
   ]
  },
  {
   "cell_type": "code",
   "execution_count": 22,
   "metadata": {},
   "outputs": [
    {
     "data": {
      "text/plain": [
       "Index(['business_id', 'name', 'address', 'city', 'state', 'postal_code',\n",
       "       'latitude', 'longitude', 'stars', 'review_count', 'is_open',\n",
       "       'categories', 'checkins', 'number_of_reviews'],\n",
       "      dtype='object')"
      ]
     },
     "execution_count": 22,
     "metadata": {},
     "output_type": "execute_result"
    }
   ],
   "source": [
    "df_yelp_business.columns"
   ]
  },
  {
   "cell_type": "markdown",
   "metadata": {},
   "source": [
    "### Features we have finalized based on our exploratory analysis"
   ]
  },
  {
   "cell_type": "code",
   "execution_count": 23,
   "metadata": {},
   "outputs": [],
   "source": [
    "cols = ['latitude',\n",
    "        'longitude',\n",
    "        'stars',\n",
    "        'checkins',\n",
    "        'number_of_reviews']"
   ]
  },
  {
   "cell_type": "code",
   "execution_count": 24,
   "metadata": {},
   "outputs": [],
   "source": [
    "X = df_yelp_business.loc[:,cols]\n",
    "y = df_yelp_business['is_open']"
   ]
  },
  {
   "cell_type": "code",
   "execution_count": 25,
   "metadata": {},
   "outputs": [],
   "source": [
    "X.fillna(0, inplace = True)"
   ]
  },
  {
   "cell_type": "markdown",
   "metadata": {},
   "source": [
    "### Splitting the data into test and train"
   ]
  },
  {
   "cell_type": "code",
   "execution_count": 26,
   "metadata": {},
   "outputs": [],
   "source": [
    "train_X, test_X, train_y, test_y = train_test_split(X,y,test_size = 0.3, random_state = 42)"
   ]
  },
  {
   "cell_type": "markdown",
   "metadata": {},
   "source": [
    "### SMOTE stands for Synthetic Minority Over-sampling Technique.\n",
    "### We are using to SMOTE to offset the initial bias in the dataset which is towards businesses being open, by oversampling the minority data, i.e., closed businesses. \n",
    "\n",
    "### Basically, this helps use train the model in such a way that it is not biased to predict that a business would be open."
   ]
  },
  {
   "cell_type": "code",
   "execution_count": 27,
   "metadata": {},
   "outputs": [],
   "source": [
    "sm = SMOTE(random_state=42)\n",
    "X_res, y_res = sm.fit_sample(train_X, train_y)"
   ]
  },
  {
   "cell_type": "code",
   "execution_count": 28,
   "metadata": {},
   "outputs": [],
   "source": [
    "X_res = pd.DataFrame(X_res,columns = train_X.columns.tolist())\n",
    "y_res = pd.DataFrame(y_res)\n",
    "test_X = pd.DataFrame(test_X)\n",
    "test_y = pd.DataFrame(test_y)"
   ]
  },
  {
   "cell_type": "markdown",
   "metadata": {},
   "source": [
    "### Logistic regression"
   ]
  },
  {
   "cell_type": "code",
   "execution_count": 29,
   "metadata": {},
   "outputs": [],
   "source": [
    "L = [0.0001,0.001,0.01,0.1,1,10]\n",
    "\n",
    "accuracy = {}\n",
    "for i in L:\n",
    "    LR = LogisticRegression(C=i)\n",
    "    LR.fit(X_res,np.ravel(y_res))\n",
    "    pred_y = LR.predict(test_X)\n",
    "    \n",
    "    accuracy[i] = 100*accuracy_score(test_y,pred_y)"
   ]
  },
  {
   "cell_type": "code",
   "execution_count": 30,
   "metadata": {},
   "outputs": [
    {
     "data": {
      "text/plain": [
       "{0.0001: 54.73449046227874,\n",
       " 0.001: 55.54600828702908,\n",
       " 0.01: 55.637662064883244,\n",
       " 0.1: 55.649118787115,\n",
       " 1: 55.649118787115,\n",
       " 10: 55.649118787115}"
      ]
     },
     "execution_count": 30,
     "metadata": {},
     "output_type": "execute_result"
    }
   ],
   "source": [
    "accuracy"
   ]
  },
  {
   "cell_type": "code",
   "execution_count": 31,
   "metadata": {},
   "outputs": [
    {
     "data": {
      "image/png": "[encoded data removed]",
      "text/plain": [
       "<Figure size 864x432 with 1 Axes>"
      ]
     },
     "metadata": {
      "needs_background": "light"
     },
     "output_type": "display_data"
    }
   ],
   "source": [
    "plt.figure(figsize=(12,6))\n",
    "plt.plot( list(accuracy.keys()), list(accuracy.values()), '--')\n",
    "plt.xticks(list(accuracy.keys()))\n",
    "plt.xticks(rotation=45)\n",
    "plt.xlim(-0.1,1)\n",
    "plt.xlabel(\"C Values\")\n",
    "plt.ylabel(\"Accuracy\");"
   ]
  },
  {
   "cell_type": "markdown",
   "metadata": {},
   "source": [
    "#### Using a lower C value to increase regularization, in-turn decreasing the chance of overfitting"
   ]
  },
  {
   "cell_type": "code",
   "execution_count": 32,
   "metadata": {},
   "outputs": [
    {
     "name": "stdout",
     "output_type": "stream",
     "text": [
      "CPU times: user 843 ms, sys: 19.6 ms, total: 863 ms\n",
      "Wall time: 549 ms\n"
     ]
    }
   ],
   "source": [
    "%%time\n",
    "LR = LogisticRegression(C=0.0001)\n",
    "LR.fit(X_res,np.ravel(y_res))\n",
    "pred_y = LR.predict(test_X)"
   ]
  },
  {
   "cell_type": "code",
   "execution_count": 33,
   "metadata": {},
   "outputs": [
    {
     "name": "stdout",
     "output_type": "stream",
     "text": [
      "Accuracy: 0.5473449046227874\n",
      "Precision:  0.8677929155313352\n",
      "Recall:  0.5434441335062453\n",
      "F1 score:  0.6683455049106019\n"
     ]
    }
   ],
   "source": [
    "print(\"Accuracy:\",metrics.accuracy_score(test_y, pred_y))\n",
    "print(\"Precision: \",metrics.precision_score(test_y, pred_y))\n",
    "print(\"Recall: \",metrics.recall_score(test_y, pred_y))\n",
    "print(\"F1 score: \",metrics.f1_score(test_y, pred_y))"
   ]
  },
  {
   "cell_type": "markdown",
   "metadata": {},
   "source": [
    "### Decision trees"
   ]
  },
  {
   "cell_type": "code",
   "execution_count": 34,
   "metadata": {},
   "outputs": [
    {
     "name": "stdout",
     "output_type": "stream",
     "text": [
      "CPU times: user 1.78 s, sys: 30.5 ms, total: 1.81 s\n",
      "Wall time: 1.88 s\n"
     ]
    }
   ],
   "source": [
    "%%time\n",
    "clf = tree.DecisionTreeClassifier()\n",
    "clf = clf.fit(X_res, y_res)"
   ]
  },
  {
   "cell_type": "code",
   "execution_count": 35,
   "metadata": {},
   "outputs": [],
   "source": [
    "pred_y = clf.predict(test_X)"
   ]
  },
  {
   "cell_type": "code",
   "execution_count": 36,
   "metadata": {},
   "outputs": [
    {
     "name": "stdout",
     "output_type": "stream",
     "text": [
      "Accuracy: 0.704072864753394\n",
      "Precision:  0.8521222620962752\n",
      "Recall:  0.7833367460696653\n",
      "F1 score:  0.8162829844235283\n"
     ]
    }
   ],
   "source": [
    "print(\"Accuracy:\",metrics.accuracy_score(test_y, pred_y))\n",
    "print(\"Precision: \",metrics.precision_score(test_y, pred_y))\n",
    "print(\"Recall: \",metrics.recall_score(test_y, pred_y))\n",
    "print(\"F1 score: \",metrics.f1_score(test_y, pred_y))"
   ]
  },
  {
   "cell_type": "markdown",
   "metadata": {},
   "source": [
    "#### Lets visualize which feature was weighed more for predicting in classifier"
   ]
  },
  {
   "cell_type": "code",
   "execution_count": 37,
   "metadata": {},
   "outputs": [
    {
     "data": {
      "image/png": "[encoded data removed]",
      "text/plain": [
       "<Figure size 468x324 with 1 Axes>"
      ]
     },
     "metadata": {
      "needs_background": "light"
     },
     "output_type": "display_data"
    },
    {
     "data": {
      "text/plain": [
       "<Figure size 360x360 with 0 Axes>"
      ]
     },
     "metadata": {},
     "output_type": "display_data"
    }
   ],
   "source": [
    "y = clf.feature_importances_\n",
    "#plot\n",
    "fig, ax = plt.subplots() \n",
    "width = 0.4 # the width of the bars \n",
    "ind = np.arange(len(y))\n",
    "ax.barh(ind, y, width, color= 'blue')\n",
    "ax.set_yticks(ind+width/10)\n",
    "ax.set_yticklabels(cols, minor=False)\n",
    "plt.title('Feature importance in Descision Trees Classifier')\n",
    "plt.xlabel('Relative importance')\n",
    "plt.ylabel('feature') \n",
    "plt.figure(figsize=(5,5))\n",
    "fig.set_size_inches(6.5, 4.5, forward=True)"
   ]
  },
  {
   "cell_type": "markdown",
   "metadata": {},
   "source": [
    "### Random forest - Ensemble model"
   ]
  },
  {
   "cell_type": "code",
   "execution_count": 38,
   "metadata": {},
   "outputs": [
    {
     "name": "stdout",
     "output_type": "stream",
     "text": [
      "CPU times: user 1min 5s, sys: 1.11 s, total: 1min 6s\n",
      "Wall time: 1min 13s\n"
     ]
    }
   ],
   "source": [
    "%%time\n",
    "randomforest = ensemble.RandomForestClassifier()\n",
    "randomforest = ensemble.RandomForestClassifier(n_estimators=100, \n",
    "                               bootstrap = True,\n",
    "                               max_features = 'sqrt')\n",
    "randomforest = randomforest.fit(X_res, np.ravel(y_res))"
   ]
  },
  {
   "cell_type": "code",
   "execution_count": 39,
   "metadata": {},
   "outputs": [],
   "source": [
    "pred_rf = randomforest.predict(test_X)"
   ]
  },
  {
   "cell_type": "code",
   "execution_count": 40,
   "metadata": {},
   "outputs": [
    {
     "name": "stdout",
     "output_type": "stream",
     "text": [
      "Accuracy: 0.770961028049875\n",
      "Precision:  0.8525972019947924\n",
      "Recall:  0.8790753759697859\n",
      "F1 score:  0.8656338564595446\n"
     ]
    }
   ],
   "source": [
    "print(\"Accuracy:\",metrics.accuracy_score(test_y, pred_rf))\n",
    "print(\"Precision: \",metrics.precision_score(test_y, pred_rf))\n",
    "print(\"Recall: \",metrics.recall_score(test_y, pred_rf))\n",
    "print(\"F1 score: \",metrics.f1_score(test_y, pred_rf))"
   ]
  },
  {
   "cell_type": "markdown",
   "metadata": {},
   "source": [
    "#### Lets visualize which feature was weighed more for predicting in classifier"
   ]
  },
  {
   "cell_type": "code",
   "execution_count": 42,
   "metadata": {},
   "outputs": [
    {
     "data": {
      "image/png": "[encoded data removed]",
      "text/plain": [
       "<Figure size 468x324 with 1 Axes>"
      ]
     },
     "metadata": {
      "needs_background": "light"
     },
     "output_type": "display_data"
    },
    {
     "data": {
      "text/plain": [
       "<Figure size 360x360 with 0 Axes>"
      ]
     },
     "metadata": {},
     "output_type": "display_data"
    }
   ],
   "source": [
    "y = randomforest.feature_importances_\n",
    "#plot\n",
    "fig, ax = plt.subplots() \n",
    "width = 0.4 # the width of the bars \n",
    "ind = np.arange(len(y))\n",
    "ax.barh(ind, y, width, color= 'green')\n",
    "ax.set_yticks(ind+width/10)\n",
    "ax.set_yticklabels(cols, minor=False)\n",
    "plt.title('Feature importance in RandomForest Classifier')\n",
    "plt.xlabel('Relative importance')\n",
    "plt.ylabel('feature') \n",
    "plt.figure(figsize=(5,5))\n",
    "fig.set_size_inches(6.5, 4.5, forward=True)"
   ]
  },
  {
   "cell_type": "markdown",
   "metadata": {},
   "source": [
    "### Comparison of models used"
   ]
  },
  {
   "cell_type": "markdown",
   "metadata": {},
   "source": [
    "I. Logistic regression\n",
    "    \n",
    "    1. Training Time - 863 s\n",
    "    2. Accuracy - 54.73%\n",
    "    3. Precision - 86.78%\n",
    "    4. Recall - 54.34%\n",
    "    5. F1 score - 66.83%\n",
    "    \n",
    "II. Decision trees\n",
    "    \n",
    "    1. Training Time - 1.81 s\n",
    "    2. Accuracy - 70.40%\n",
    "    3. Precision - 85.21%\n",
    "    4. Recall - 78.33%\n",
    "    5. F1 score - 81.62%\n",
    "    \n",
    "III.  Random Forest\n",
    "\n",
    "    1. Training Time - 1 min 6 s\n",
    "    2. Accuracy - 77.09%\n",
    "    3. Precision - 85.25%\n",
    "    4. Recall - 87.90%\n",
    "    5. F1 score - 86.56%"
   ]
  },
  {
   "cell_type": "code",
   "execution_count": 43,
   "metadata": {},
   "outputs": [
    {
     "data": {
      "image/png": "[encoded data removed]",
      "text/plain": [
       "<Figure size 864x432 with 1 Axes>"
      ]
     },
     "metadata": {
      "needs_background": "light"
     },
     "output_type": "display_data"
    }
   ],
   "source": [
    "lr = {\"Accuracy\": 0.547, \"Precision\": 0.867, \"Recall\": 0.543, \"F1 score\": 0.668}\n",
    "dt = {\"Accuracy\": 0.704, \"Precision\": 0.852, \"Recall\": 0.782, \"F1 score\": 0.816}\n",
    "rf = {\"Accuracy\": 0.770, \"Precision\": 0.852, \"Recall\": 0.878, \"F1 score\": 0.865}\n",
    "\n",
    "X = np.arange(len(lr))\n",
    "plt.figure(figsize=(12,6))\n",
    "ax = plt.subplot(111)\n",
    "\n",
    "ax.bar(X-0.2, lr.values(), width=0.1, color='violet', align='center')\n",
    "ax.bar(X, dt.values(), width=0.1, color='Darkviolet', align='center')\n",
    "ax.bar(X+0.2, rf.values(), width=0.1, color='magenta', align='center')\n",
    "plt.legend(('Logistic Regression','Decision trees', 'Random forest'))\n",
    "plt.xticks(X, lr.keys())\n",
    "plt.title(\"Comparison of models\", fontsize=17)\n",
    "plt.show()"
   ]
  },
  {
   "cell_type": "markdown",
   "metadata": {},
   "source": [
    "## 7. Learnings"
   ]
  },
  {
   "cell_type": "markdown",
   "metadata": {},
   "source": [
    "To acheive the project objective we performed an exploratory analysis on the data. This analysis guided us towards finding the influential factors of a business that represents the state of the business. Filtering through all the columns of the data we decided the following factors based on analysis:\n",
    "\n",
    "1. Latitude\n",
    "2. Longitutde\n",
    "3. Stars\n",
    "4. Check-ins\n",
    "5. Number of reviews\n",
    "\n",
    "By analyzing the location of a business, we discovered that a business is more likely to succeed when it is located in a hotspot in a given region. If a business is situated outside of the hotspots, its likelihood of success greatly reduces.\n",
    "\n",
    "Stars are the ratings the business receives on Yelp. Customers of that business will provide a rating out of five stars, which depends on their personal experience and is very subjective. This provides us with a yardstick to compare businesses and establish how good or bad it is doing.\n",
    "\n",
    "Check-ins are the number of people that visit the business.\n",
    "\n",
    "Number of reviews is basically the number of reviews a business receives on Yelp."
   ]
  },
  {
   "cell_type": "markdown",
   "metadata": {},
   "source": [
    "#### We learned to navigate the dataset and filter out the unnecessary information that would not help us gain a better understanding as to what factors affect the closure or success of a business."
   ]
  },
  {
   "cell_type": "markdown",
   "metadata": {},
   "source": [
    "Next step was to choose appropriate models to build to acheive the objective. \n",
    "\n",
    "On investigation of the data we found that the 'is_open' feature can be used to classify our models. Hence, we decided to classification machine learning models and compare how they performed.\n",
    "\n",
    "Before we train out models on our data, we observed that the data has a class-imbalance, i.e., majority of the businesses in the data are open for business, which is practically sound. But, we did not want our prediction models to suffer based on this bias. By using SMOTE, which is a sampling technique, we reduced the inherent bias of the data.\n",
    "\n",
    "Models used: \n",
    "1. Logistic regression\n",
    "2. Decision trees\n",
    "3. Random forest\n",
    "\n",
    "We found that random forest outperformed both decision trees and logistic regression in terms of accuracy. Random forest acheived the highest accuracy, followed by decision trees and then logistic regression.\n",
    "\n",
    "On analyzing the feature importances for both decision trees and random forest we see that 'Stars' is the most important feature, followed by 'Latitude' & 'Longitude', 'Check-ins' and then 'number of reviews'."
   ]
  },
  {
   "cell_type": "markdown",
   "metadata": {},
   "source": [
    "#### We learned how to use machine learning algorithms identify the important features. We also learned how to use SMOTE, a sampling technique and how to apply the models mentioned previously."
   ]
  },
  {
   "cell_type": "markdown",
   "metadata": {},
   "source": [
    "## 8. Future Improvements"
   ]
  },
  {
   "cell_type": "markdown",
   "metadata": {},
   "source": [
    "We noticed that the yelp_review.csv contains all the reviews that a certain business receives. We can use the words used by the users in their reviews of the place to determine whether the business is doing good or bad. Depending on the choice of words and their frequency we can extrapolate the health of the business, which can be another factor to incorporate into our models. This would require some expertise in the field of Natural Language Processing."
   ]
  }
 ],
 "metadata": {
  "kernelspec": {
   "display_name": "Python 3",
   "language": "python",
   "name": "python3"
  },
  "language_info": {
   "codemirror_mode": {
    "name": "ipython",
    "version": 3
   },
   "file_extension": ".py",
   "mimetype": "text/x-python",
   "name": "python",
   "nbconvert_exporter": "python",
   "pygments_lexer": "ipython3",
   "version": "3.7.4"
  }
 },
 "nbformat": 4,
 "nbformat_minor": 2
}
